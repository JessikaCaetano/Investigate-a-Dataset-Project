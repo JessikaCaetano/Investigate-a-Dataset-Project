{
 "cells": [
  {
   "cell_type": "markdown",
   "metadata": {},
   "source": [
    "# Project: Investigate a Dataset (TMDb Movie Data)\n",
    "\n",
    "### Student: Jessika Nunes Caetano"
   ]
  },
  {
   "cell_type": "markdown",
   "metadata": {},
   "source": [
    "<a id='intro'></a>\n",
    "## Introduction\n",
    "\n",
    "> For this project, I chose to investigate the dataset TMDb movie data. According to the dataset options document, this dataset contains information of rating and revenues about 10.000 movies. The data is available in a csv file, which I uploaded to this notebook's folder. In this section, first I will import the packages that I will need, and then I will load the data file ad take a look at the metrics that compose it. "
   ]
  },
  {
   "cell_type": "code",
   "execution_count": 30,
   "metadata": {},
   "outputs": [],
   "source": [
    "# Import packages that I will use\n",
    "import pandas as pd\n",
    "import numpy as np\n",
    "import seaborn as sbn\n",
    "import matplotlib.pyplot as plt\n",
    "\n",
    "# Define that visualizations should be plotted inline with the notebook\n",
    "%matplotlib inline\n"
   ]
  },
  {
   "cell_type": "code",
   "execution_count": 31,
   "metadata": {},
   "outputs": [],
   "source": [
    "#Import the dataset\n",
    "data = pd.read_csv('tmdb-movies.csv')"
   ]
  },
  {
   "cell_type": "code",
   "execution_count": 32,
   "metadata": {},
   "outputs": [
    {
     "data": {
      "text/html": [
       "<div>\n",
       "<style scoped>\n",
       "    .dataframe tbody tr th:only-of-type {\n",
       "        vertical-align: middle;\n",
       "    }\n",
       "\n",
       "    .dataframe tbody tr th {\n",
       "        vertical-align: top;\n",
       "    }\n",
       "\n",
       "    .dataframe thead th {\n",
       "        text-align: right;\n",
       "    }\n",
       "</style>\n",
       "<table border=\"1\" class=\"dataframe\">\n",
       "  <thead>\n",
       "    <tr style=\"text-align: right;\">\n",
       "      <th></th>\n",
       "      <th>id</th>\n",
       "      <th>imdb_id</th>\n",
       "      <th>popularity</th>\n",
       "      <th>budget</th>\n",
       "      <th>revenue</th>\n",
       "      <th>original_title</th>\n",
       "      <th>cast</th>\n",
       "      <th>homepage</th>\n",
       "      <th>director</th>\n",
       "      <th>tagline</th>\n",
       "      <th>...</th>\n",
       "      <th>overview</th>\n",
       "      <th>runtime</th>\n",
       "      <th>genres</th>\n",
       "      <th>production_companies</th>\n",
       "      <th>release_date</th>\n",
       "      <th>vote_count</th>\n",
       "      <th>vote_average</th>\n",
       "      <th>release_year</th>\n",
       "      <th>budget_adj</th>\n",
       "      <th>revenue_adj</th>\n",
       "    </tr>\n",
       "  </thead>\n",
       "  <tbody>\n",
       "    <tr>\n",
       "      <th>0</th>\n",
       "      <td>135397</td>\n",
       "      <td>tt0369610</td>\n",
       "      <td>32.985763</td>\n",
       "      <td>150000000</td>\n",
       "      <td>1513528810</td>\n",
       "      <td>Jurassic World</td>\n",
       "      <td>Chris Pratt|Bryce Dallas Howard|Irrfan Khan|Vi...</td>\n",
       "      <td>http://www.jurassicworld.com/</td>\n",
       "      <td>Colin Trevorrow</td>\n",
       "      <td>The park is open.</td>\n",
       "      <td>...</td>\n",
       "      <td>Twenty-two years after the events of Jurassic ...</td>\n",
       "      <td>124</td>\n",
       "      <td>Action|Adventure|Science Fiction|Thriller</td>\n",
       "      <td>Universal Studios|Amblin Entertainment|Legenda...</td>\n",
       "      <td>6/9/15</td>\n",
       "      <td>5562</td>\n",
       "      <td>6.5</td>\n",
       "      <td>2015</td>\n",
       "      <td>1.379999e+08</td>\n",
       "      <td>1.392446e+09</td>\n",
       "    </tr>\n",
       "    <tr>\n",
       "      <th>1</th>\n",
       "      <td>76341</td>\n",
       "      <td>tt1392190</td>\n",
       "      <td>28.419936</td>\n",
       "      <td>150000000</td>\n",
       "      <td>378436354</td>\n",
       "      <td>Mad Max: Fury Road</td>\n",
       "      <td>Tom Hardy|Charlize Theron|Hugh Keays-Byrne|Nic...</td>\n",
       "      <td>http://www.madmaxmovie.com/</td>\n",
       "      <td>George Miller</td>\n",
       "      <td>What a Lovely Day.</td>\n",
       "      <td>...</td>\n",
       "      <td>An apocalyptic story set in the furthest reach...</td>\n",
       "      <td>120</td>\n",
       "      <td>Action|Adventure|Science Fiction|Thriller</td>\n",
       "      <td>Village Roadshow Pictures|Kennedy Miller Produ...</td>\n",
       "      <td>5/13/15</td>\n",
       "      <td>6185</td>\n",
       "      <td>7.1</td>\n",
       "      <td>2015</td>\n",
       "      <td>1.379999e+08</td>\n",
       "      <td>3.481613e+08</td>\n",
       "    </tr>\n",
       "    <tr>\n",
       "      <th>2</th>\n",
       "      <td>262500</td>\n",
       "      <td>tt2908446</td>\n",
       "      <td>13.112507</td>\n",
       "      <td>110000000</td>\n",
       "      <td>295238201</td>\n",
       "      <td>Insurgent</td>\n",
       "      <td>Shailene Woodley|Theo James|Kate Winslet|Ansel...</td>\n",
       "      <td>http://www.thedivergentseries.movie/#insurgent</td>\n",
       "      <td>Robert Schwentke</td>\n",
       "      <td>One Choice Can Destroy You</td>\n",
       "      <td>...</td>\n",
       "      <td>Beatrice Prior must confront her inner demons ...</td>\n",
       "      <td>119</td>\n",
       "      <td>Adventure|Science Fiction|Thriller</td>\n",
       "      <td>Summit Entertainment|Mandeville Films|Red Wago...</td>\n",
       "      <td>3/18/15</td>\n",
       "      <td>2480</td>\n",
       "      <td>6.3</td>\n",
       "      <td>2015</td>\n",
       "      <td>1.012000e+08</td>\n",
       "      <td>2.716190e+08</td>\n",
       "    </tr>\n",
       "    <tr>\n",
       "      <th>3</th>\n",
       "      <td>140607</td>\n",
       "      <td>tt2488496</td>\n",
       "      <td>11.173104</td>\n",
       "      <td>200000000</td>\n",
       "      <td>2068178225</td>\n",
       "      <td>Star Wars: The Force Awakens</td>\n",
       "      <td>Harrison Ford|Mark Hamill|Carrie Fisher|Adam D...</td>\n",
       "      <td>http://www.starwars.com/films/star-wars-episod...</td>\n",
       "      <td>J.J. Abrams</td>\n",
       "      <td>Every generation has a story.</td>\n",
       "      <td>...</td>\n",
       "      <td>Thirty years after defeating the Galactic Empi...</td>\n",
       "      <td>136</td>\n",
       "      <td>Action|Adventure|Science Fiction|Fantasy</td>\n",
       "      <td>Lucasfilm|Truenorth Productions|Bad Robot</td>\n",
       "      <td>12/15/15</td>\n",
       "      <td>5292</td>\n",
       "      <td>7.5</td>\n",
       "      <td>2015</td>\n",
       "      <td>1.839999e+08</td>\n",
       "      <td>1.902723e+09</td>\n",
       "    </tr>\n",
       "    <tr>\n",
       "      <th>4</th>\n",
       "      <td>168259</td>\n",
       "      <td>tt2820852</td>\n",
       "      <td>9.335014</td>\n",
       "      <td>190000000</td>\n",
       "      <td>1506249360</td>\n",
       "      <td>Furious 7</td>\n",
       "      <td>Vin Diesel|Paul Walker|Jason Statham|Michelle ...</td>\n",
       "      <td>http://www.furious7.com/</td>\n",
       "      <td>James Wan</td>\n",
       "      <td>Vengeance Hits Home</td>\n",
       "      <td>...</td>\n",
       "      <td>Deckard Shaw seeks revenge against Dominic Tor...</td>\n",
       "      <td>137</td>\n",
       "      <td>Action|Crime|Thriller</td>\n",
       "      <td>Universal Pictures|Original Film|Media Rights ...</td>\n",
       "      <td>4/1/15</td>\n",
       "      <td>2947</td>\n",
       "      <td>7.3</td>\n",
       "      <td>2015</td>\n",
       "      <td>1.747999e+08</td>\n",
       "      <td>1.385749e+09</td>\n",
       "    </tr>\n",
       "  </tbody>\n",
       "</table>\n",
       "<p>5 rows × 21 columns</p>\n",
       "</div>"
      ],
      "text/plain": [
       "       id    imdb_id  popularity     budget     revenue  \\\n",
       "0  135397  tt0369610   32.985763  150000000  1513528810   \n",
       "1   76341  tt1392190   28.419936  150000000   378436354   \n",
       "2  262500  tt2908446   13.112507  110000000   295238201   \n",
       "3  140607  tt2488496   11.173104  200000000  2068178225   \n",
       "4  168259  tt2820852    9.335014  190000000  1506249360   \n",
       "\n",
       "                 original_title  \\\n",
       "0                Jurassic World   \n",
       "1            Mad Max: Fury Road   \n",
       "2                     Insurgent   \n",
       "3  Star Wars: The Force Awakens   \n",
       "4                     Furious 7   \n",
       "\n",
       "                                                cast  \\\n",
       "0  Chris Pratt|Bryce Dallas Howard|Irrfan Khan|Vi...   \n",
       "1  Tom Hardy|Charlize Theron|Hugh Keays-Byrne|Nic...   \n",
       "2  Shailene Woodley|Theo James|Kate Winslet|Ansel...   \n",
       "3  Harrison Ford|Mark Hamill|Carrie Fisher|Adam D...   \n",
       "4  Vin Diesel|Paul Walker|Jason Statham|Michelle ...   \n",
       "\n",
       "                                            homepage          director  \\\n",
       "0                      http://www.jurassicworld.com/   Colin Trevorrow   \n",
       "1                        http://www.madmaxmovie.com/     George Miller   \n",
       "2     http://www.thedivergentseries.movie/#insurgent  Robert Schwentke   \n",
       "3  http://www.starwars.com/films/star-wars-episod...       J.J. Abrams   \n",
       "4                           http://www.furious7.com/         James Wan   \n",
       "\n",
       "                         tagline  ...  \\\n",
       "0              The park is open.  ...   \n",
       "1             What a Lovely Day.  ...   \n",
       "2     One Choice Can Destroy You  ...   \n",
       "3  Every generation has a story.  ...   \n",
       "4            Vengeance Hits Home  ...   \n",
       "\n",
       "                                            overview runtime  \\\n",
       "0  Twenty-two years after the events of Jurassic ...     124   \n",
       "1  An apocalyptic story set in the furthest reach...     120   \n",
       "2  Beatrice Prior must confront her inner demons ...     119   \n",
       "3  Thirty years after defeating the Galactic Empi...     136   \n",
       "4  Deckard Shaw seeks revenge against Dominic Tor...     137   \n",
       "\n",
       "                                      genres  \\\n",
       "0  Action|Adventure|Science Fiction|Thriller   \n",
       "1  Action|Adventure|Science Fiction|Thriller   \n",
       "2         Adventure|Science Fiction|Thriller   \n",
       "3   Action|Adventure|Science Fiction|Fantasy   \n",
       "4                      Action|Crime|Thriller   \n",
       "\n",
       "                                production_companies release_date vote_count  \\\n",
       "0  Universal Studios|Amblin Entertainment|Legenda...       6/9/15       5562   \n",
       "1  Village Roadshow Pictures|Kennedy Miller Produ...      5/13/15       6185   \n",
       "2  Summit Entertainment|Mandeville Films|Red Wago...      3/18/15       2480   \n",
       "3          Lucasfilm|Truenorth Productions|Bad Robot     12/15/15       5292   \n",
       "4  Universal Pictures|Original Film|Media Rights ...       4/1/15       2947   \n",
       "\n",
       "   vote_average  release_year    budget_adj   revenue_adj  \n",
       "0           6.5          2015  1.379999e+08  1.392446e+09  \n",
       "1           7.1          2015  1.379999e+08  3.481613e+08  \n",
       "2           6.3          2015  1.012000e+08  2.716190e+08  \n",
       "3           7.5          2015  1.839999e+08  1.902723e+09  \n",
       "4           7.3          2015  1.747999e+08  1.385749e+09  \n",
       "\n",
       "[5 rows x 21 columns]"
      ]
     },
     "execution_count": 32,
     "metadata": {},
     "output_type": "execute_result"
    }
   ],
   "source": [
    "#Take a look at the dataset\n",
    "data.head()\n"
   ]
  },
  {
   "cell_type": "code",
   "execution_count": 33,
   "metadata": {},
   "outputs": [
    {
     "data": {
      "text/plain": [
       "['id',\n",
       " 'imdb_id',\n",
       " 'popularity',\n",
       " 'budget',\n",
       " 'revenue',\n",
       " 'original_title',\n",
       " 'cast',\n",
       " 'homepage',\n",
       " 'director',\n",
       " 'tagline',\n",
       " 'keywords',\n",
       " 'overview',\n",
       " 'runtime',\n",
       " 'genres',\n",
       " 'production_companies',\n",
       " 'release_date',\n",
       " 'vote_count',\n",
       " 'vote_average',\n",
       " 'release_year',\n",
       " 'budget_adj',\n",
       " 'revenue_adj']"
      ]
     },
     "execution_count": 33,
     "metadata": {},
     "output_type": "execute_result"
    }
   ],
   "source": [
    "#Above, only 20 of the 21 columns of the dataset are shown, so I'll take a look at the list of columns and see what is missing.\n",
    "list(data.columns)"
   ]
  },
  {
   "cell_type": "markdown",
   "metadata": {},
   "source": [
    "<a id='questions'></a>\n",
    "#### Proposed Questions\n",
    "> In the dataset, a lot of infomation os available, such as: revenue, budget, cast, director, genres, vote count and average, and others. For this analysis, I want to investigate which variables influence the score received by the movie and which ones are related to the movie's revenue ans popularity. Therefore, the dependent variables must be avg_score,revenue_adj and popularity. The questions that I will try to answer are the following:\n",
    "> - Is the movie **revenue** higher when a certain actor/group of actors is part of the cast? Does that also influence the movie's **average vote** or the movie's **popularity**?\n",
    "> - Is the movie **revenue** higher when a certain person is directing the movie? Does the director also influence the movie's **average vote**  or the movie's **popularity**? \n",
    "> - Which genres usually present higher **revenues/scores/popularity**?\n",
    "\n",
    ">With this questions, I will analyse the following set of variables:\n",
    "\n",
    "> - Dependent variable 1: **Revenue**. Independent variables: cast, director and genre;\n",
    "> - Dependent variable 2: **Average Vote**. Independent variables: cast, director and genre;\n",
    "> - Dependent variable 3: **Popularity**. Independent variables: cast, director and genre."
   ]
  },
  {
   "cell_type": "markdown",
   "metadata": {},
   "source": [
    "<a id='wrangling'></a>\n",
    "## Data Wrangling\n",
    "\n",
    "### General Properties\n",
    "\n",
    "> In the previous section, I have loaded the datased an took a look at the metrics that compose it. Now, I will investigate the characteristics os those columns in order to identify changes that are necessary to proceed with the analysis."
   ]
  },
  {
   "cell_type": "markdown",
   "metadata": {},
   "source": [
    ">First, let's look at the size of the dataset."
   ]
  },
  {
   "cell_type": "code",
   "execution_count": 34,
   "metadata": {},
   "outputs": [
    {
     "data": {
      "text/plain": [
       "(10866, 21)"
      ]
     },
     "execution_count": 34,
     "metadata": {},
     "output_type": "execute_result"
    }
   ],
   "source": [
    "data.shape\n"
   ]
  },
  {
   "cell_type": "markdown",
   "metadata": {},
   "source": [
    ">As we have seen before, the dataset has 21 columns. I expected it to have 10.000 rows because the data is about 10.000 different movies. So I suspect there are duplicated registers here. Let's check for duplicates."
   ]
  },
  {
   "cell_type": "code",
   "execution_count": 35,
   "metadata": {},
   "outputs": [
    {
     "name": "stdout",
     "output_type": "stream",
     "text": [
      "1\n"
     ]
    },
    {
     "data": {
      "text/plain": [
       "id                      10865\n",
       "imdb_id                 10855\n",
       "popularity              10814\n",
       "budget                    557\n",
       "revenue                  4702\n",
       "original_title          10571\n",
       "cast                    10719\n",
       "homepage                 2896\n",
       "director                 5067\n",
       "tagline                  7997\n",
       "keywords                 8804\n",
       "overview                10847\n",
       "runtime                   247\n",
       "genres                   2039\n",
       "production_companies     7445\n",
       "release_date             5909\n",
       "vote_count               1289\n",
       "vote_average               72\n",
       "release_year               56\n",
       "budget_adj               2614\n",
       "revenue_adj              4840\n",
       "dtype: int64"
      ]
     },
     "execution_count": 35,
     "metadata": {},
     "output_type": "execute_result"
    }
   ],
   "source": [
    "print(sum(data.duplicated()))\n",
    "data.nunique()"
   ]
  },
  {
   "cell_type": "markdown",
   "metadata": {},
   "source": [
    ">Apparently, there is only one row in the dataset that is fully duplicated. We will remove it later. The dataset must really have more registers than I expected, considering that the id column have 10.865 unique values (total of 10.866 rows). Nevertheless, the imdb_id column has 10.855 unique values, ten rows less than the id column. Let's check which records are those (I searched the internet and learned how to use the command 'isin' to show the duplicated rows)."
   ]
  },
  {
   "cell_type": "code",
   "execution_count": 36,
   "metadata": {},
   "outputs": [
    {
     "name": "stdout",
     "output_type": "stream",
     "text": [
      "          id    imdb_id  popularity    budget  revenue  \\\n",
      "548   355131        NaN    0.108072         0        0   \n",
      "997   287663        NaN    0.330431         0        0   \n",
      "1528   15257        NaN    0.607851         0        0   \n",
      "1750  101907        NaN    0.256975         0        0   \n",
      "2089   42194  tt0411951    0.596430  30000000   967000   \n",
      "2090   42194  tt0411951    0.596430  30000000   967000   \n",
      "2401   45644        NaN    0.067753         0        0   \n",
      "4797  369145        NaN    0.167501         0        0   \n",
      "4872  269177        NaN    0.090552         0        0   \n",
      "6071  279954        NaN    0.004323       500        0   \n",
      "7527   50127        NaN    0.570337         0        0   \n",
      "7809   50128        NaN    0.060795         0        0   \n",
      "\n",
      "                                       original_title  \\\n",
      "548                        Sense8: Creating the World   \n",
      "997              Star Wars Rebels: Spark of Rebellion   \n",
      "1528                               Hulk vs. Wolverine   \n",
      "1750                                    Hulk vs. Thor   \n",
      "2089                                           TEKKEN   \n",
      "2090                                           TEKKEN   \n",
      "2401  Opeth: In Live Concert At The Royal Albert Hall   \n",
      "4797                          Doctor Who: The Snowmen   \n",
      "4872                                      Party Bercy   \n",
      "6071                                 Portal: Survive!   \n",
      "7527                              Fallen: The Journey   \n",
      "7809                              Fallen: The Destiny   \n",
      "\n",
      "                                                   cast  \\\n",
      "548   Tuppence Middleton|Bae Doona |Brian J. Smith|A...   \n",
      "997   Freddie Prinze Jr.|Vanessa Marshall|Steve Blum...   \n",
      "1528  Fred Tatasciore|Bryce Johnson|Steve Blum|Nolan...   \n",
      "1750  Graham McTavish|Fred Tatasciore|Matthew Wolf|J...   \n",
      "2089  Jon Foo|Kelly Overton|Cary-Hiroyuki Tagawa|Ian...   \n",
      "2090  Jon Foo|Kelly Overton|Cary-Hiroyuki Tagawa|Ian...   \n",
      "2401  Mikael Ã…kerfeldt|Martin \"Axe\" Axenrot|Martin ...   \n",
      "4797  Matt Smith|Jenna Coleman|Richard E. Grant|Ian ...   \n",
      "4872                                   Florence Foresti   \n",
      "6071                    Monique Blanchard|Bradley Mixon   \n",
      "7527  Paul Wesley|Fernanda Andrade|Tom Skerritt|Rick...   \n",
      "7809  Paul Wesley|Fernanda Andrade|Tom Skerritt|Rick...   \n",
      "\n",
      "                                               homepage  \\\n",
      "548                                                 NaN   \n",
      "997                                                 NaN   \n",
      "1528                                                NaN   \n",
      "1750                                                NaN   \n",
      "2089                                                NaN   \n",
      "2090                                                NaN   \n",
      "2401                               http://www.opeth.com   \n",
      "4797                                                NaN   \n",
      "4872                                                NaN   \n",
      "6071  https://www.kickstarter.com/projects/colinandc...   \n",
      "7527                                                NaN   \n",
      "7809                                                NaN   \n",
      "\n",
      "                          director  \\\n",
      "548                            NaN   \n",
      "997      Steward Lee|Steven G. Lee   \n",
      "1528                    Frank Paur   \n",
      "1750                       Sam Liu   \n",
      "2089              Dwight H. Little   \n",
      "2090              Dwight H. Little   \n",
      "2401                           NaN   \n",
      "4797                           NaN   \n",
      "4872                           NaN   \n",
      "6071  Connor McGuire|Colin McGuire   \n",
      "7527                Mikael Salomon   \n",
      "7809                Mikael Salomon   \n",
      "\n",
      "                                                tagline  ...  \\\n",
      "548                                                 NaN  ...   \n",
      "997                                                 NaN  ...   \n",
      "1528                                                NaN  ...   \n",
      "1750                   A Battle Between God and Monster  ...   \n",
      "2089                                Survival is no game  ...   \n",
      "2090                                Survival is no game  ...   \n",
      "2401  The Loyal Disharmonic Orchestra, Conducted By ...  ...   \n",
      "4797                                                NaN  ...   \n",
      "4872                                                NaN  ...   \n",
      "6071                                  The Cake is a Lie  ...   \n",
      "7527                                                NaN  ...   \n",
      "7809                                                NaN  ...   \n",
      "\n",
      "                                               overview runtime  \\\n",
      "548                                                 NaN      25   \n",
      "997   A Long Time Ago In A Galaxy Far, Far Awayâ€¦ A...      44   \n",
      "1528  Department H sends in Wolverine to track down ...      38   \n",
      "1750  For ages, Odin has protected his kingdom of As...      41   \n",
      "2089  In the year of 2039, after World Wars destroy ...      92   \n",
      "2090  In the year of 2039, after World Wars destroy ...      92   \n",
      "2401  As part of the ongoing celebration of their 20...     163   \n",
      "4797  Christmas Eve, 1892, and the falling snow is t...      60   \n",
      "4872  Florence Foresti is offered Bercy tribute to a...     120   \n",
      "6071  A short, live action fan film by Collin and Co...       7   \n",
      "7527  A year later, Aaron is still traveling around ...      80   \n",
      "7809  Aaron and Azazel defeat the Powers, and force ...      80   \n",
      "\n",
      "                                              genres    production_companies  \\\n",
      "548                      Documentary|Science Fiction                 Netflix   \n",
      "997                                              NaN                     NaN   \n",
      "1528                Animation|Action|Science Fiction          Marvel Studios   \n",
      "1750        Action|Animation|Fantasy|Science Fiction          Marvel Studios   \n",
      "2089     Crime|Drama|Action|Thriller|Science Fiction  Namco|Light Song Films   \n",
      "2090     Crime|Drama|Action|Thriller|Science Fiction  Namco|Light Song Films   \n",
      "2401                                           Music                     NaN   \n",
      "4797                                             NaN       BBC Television UK   \n",
      "4872                                          Comedy              TF1 VidÃ©o   \n",
      "6071                          Action|Science Fiction                     NaN   \n",
      "7527           Action|Adventure|Drama|Fantasy|Family                     NaN   \n",
      "7809  Adventure|Fantasy|Drama|Action|Science Fiction                     NaN   \n",
      "\n",
      "     release_date vote_count  vote_average  release_year    budget_adj  \\\n",
      "548       8/10/15         12           7.5          2015  0.000000e+00   \n",
      "997       10/3/14         13           6.8          2014  0.000000e+00   \n",
      "1528      1/27/09         38           6.9          2009  0.000000e+00   \n",
      "1750      1/27/09         38           6.4          2009  0.000000e+00   \n",
      "2089      3/20/10        110           5.0          2010  3.000000e+07   \n",
      "2090      3/20/10        110           5.0          2010  3.000000e+07   \n",
      "2401      9/21/10         10           8.6          2010  0.000000e+00   \n",
      "4797     12/25/12         10           7.8          2012  0.000000e+00   \n",
      "4872      9/23/12         15           6.4          2012  0.000000e+00   \n",
      "6071      10/8/13         11           7.5          2013  4.680167e+02   \n",
      "7527       1/1/07         11           7.3          2007  0.000000e+00   \n",
      "7809       1/1/07         13           7.0          2007  0.000000e+00   \n",
      "\n",
      "      revenue_adj  \n",
      "548           0.0  \n",
      "997           0.0  \n",
      "1528          0.0  \n",
      "1750          0.0  \n",
      "2089     967000.0  \n",
      "2090     967000.0  \n",
      "2401          0.0  \n",
      "4797          0.0  \n",
      "4872          0.0  \n",
      "6071          0.0  \n",
      "7527          0.0  \n",
      "7809          0.0  \n",
      "\n",
      "[12 rows x 21 columns]\n"
     ]
    }
   ],
   "source": [
    "print(data[data['imdb_id'].isin(data['imdb_id'][data['imdb_id'].duplicated()])])"
   ]
  },
  {
   "cell_type": "markdown",
   "metadata": {},
   "source": [
    ">As we can see, the duplicated rows are those we had already found before (in which the whole row is duplicated) and a few other registers with null values in the imdb_id collumn (that is why they were counted as duplicated), but with a unique id. For now, I think we can let those records stay. We wont aplly any numerical operation to it, so we don't need yet to replace the null values. Let's check for other null values in the dataset."
   ]
  },
  {
   "cell_type": "code",
   "execution_count": 37,
   "metadata": {},
   "outputs": [
    {
     "data": {
      "text/plain": [
       "id                         0\n",
       "imdb_id                   10\n",
       "popularity                 0\n",
       "budget                     0\n",
       "revenue                    0\n",
       "original_title             0\n",
       "cast                      76\n",
       "homepage                7930\n",
       "director                  44\n",
       "tagline                 2824\n",
       "keywords                1493\n",
       "overview                   4\n",
       "runtime                    0\n",
       "genres                    23\n",
       "production_companies    1030\n",
       "release_date               0\n",
       "vote_count                 0\n",
       "vote_average               0\n",
       "release_year               0\n",
       "budget_adj                 0\n",
       "revenue_adj                0\n",
       "dtype: int64"
      ]
     },
     "execution_count": 37,
     "metadata": {},
     "output_type": "execute_result"
    }
   ],
   "source": [
    "data.isnull().sum()"
   ]
  },
  {
   "cell_type": "markdown",
   "metadata": {},
   "source": [
    ">As we can see, many columns present null values, but the ones that we need to be concerned about are: cast, director and genres. For these are not numerical columns, we will need to drop the rows with null values when we are going to analyse these variables influence in revenue, score and popularity. Once we have unique 10.865 records in this datased, droping those rows won't have much of an impact in the analysis. At last, lets take a look at the datatype of each column."
   ]
  },
  {
   "cell_type": "code",
   "execution_count": 38,
   "metadata": {},
   "outputs": [
    {
     "data": {
      "text/plain": [
       "id                        int64\n",
       "imdb_id                  object\n",
       "popularity              float64\n",
       "budget                    int64\n",
       "revenue                   int64\n",
       "original_title           object\n",
       "cast                     object\n",
       "homepage                 object\n",
       "director                 object\n",
       "tagline                  object\n",
       "keywords                 object\n",
       "overview                 object\n",
       "runtime                   int64\n",
       "genres                   object\n",
       "production_companies     object\n",
       "release_date             object\n",
       "vote_count                int64\n",
       "vote_average            float64\n",
       "release_year              int64\n",
       "budget_adj              float64\n",
       "revenue_adj             float64\n",
       "dtype: object"
      ]
     },
     "execution_count": 38,
     "metadata": {},
     "output_type": "execute_result"
    }
   ],
   "source": [
    "data.dtypes"
   ]
  },
  {
   "cell_type": "markdown",
   "metadata": {},
   "source": [
    ">The only column that needed to have its datatype changed is the release_date column. It is formatted as string, but its datatype should be date. On the other hand, I do not plan to use this column in my analysis once I already have the year column, so I won't make this change."
   ]
  },
  {
   "cell_type": "markdown",
   "metadata": {},
   "source": [
    ">There is another observation that I have to make about cleaning the dataset: the columns cast, genres and director have many names in one row separated by a '|' caracter. I will have to create one row to each of those names when I'm going to analyse these variables. Also, there are some columns that will not be used in this analysis, so I will drop them."
   ]
  },
  {
   "cell_type": "markdown",
   "metadata": {},
   "source": [
    "### Data Cleaning"
   ]
  },
  {
   "cell_type": "markdown",
   "metadata": {
    "collapsed": true
   },
   "source": [
    ">First, I am going to drop the duplicate row we found."
   ]
  },
  {
   "cell_type": "code",
   "execution_count": 39,
   "metadata": {},
   "outputs": [],
   "source": [
    "data.drop_duplicates(inplace=True)"
   ]
  },
  {
   "cell_type": "markdown",
   "metadata": {},
   "source": [
    ">Now, let's drop the columns we are not going to use. Note that I will drop the budget and revenue columns because I will use the budget_adj and revenue_adj columns to avoid considering the efects of inflation and other factors in prices (these two columns show budget and revenue in terms of 2010 dollars, according to the dataset options file)."
   ]
  },
  {
   "cell_type": "code",
   "execution_count": 40,
   "metadata": {},
   "outputs": [],
   "source": [
    "data.drop(['imdb_id', 'budget','revenue','homepage','tagline','keywords','overview','runtime','release_date','production_companies'], axis=1, inplace=True)"
   ]
  },
  {
   "cell_type": "markdown",
   "metadata": {},
   "source": [
    ">As last, I will create one row to each name in genre, director and cast columns. I will create three different datasets, one for the modification in each of this columns, so the dataset does not get too many rows and the modification in one column does not affect the results of analysis involving other variables."
   ]
  },
  {
   "cell_type": "code",
   "execution_count": 41,
   "metadata": {},
   "outputs": [
    {
     "name": "stdout",
     "output_type": "stream",
     "text": [
      "           id  popularity            original_title  \\\n",
      "0      135397   32.985763            Jurassic World   \n",
      "0      135397   32.985763            Jurassic World   \n",
      "0      135397   32.985763            Jurassic World   \n",
      "0      135397   32.985763            Jurassic World   \n",
      "1       76341   28.419936        Mad Max: Fury Road   \n",
      "...       ...         ...                       ...   \n",
      "10863   39768    0.065141       Beregis Avtomobilya   \n",
      "10863   39768    0.065141       Beregis Avtomobilya   \n",
      "10864   21449    0.064317    What's Up, Tiger Lily?   \n",
      "10864   21449    0.064317    What's Up, Tiger Lily?   \n",
      "10865   22293    0.035919  Manos: The Hands of Fate   \n",
      "\n",
      "                                                    cast          director  \\\n",
      "0      Chris Pratt|Bryce Dallas Howard|Irrfan Khan|Vi...   Colin Trevorrow   \n",
      "0      Chris Pratt|Bryce Dallas Howard|Irrfan Khan|Vi...   Colin Trevorrow   \n",
      "0      Chris Pratt|Bryce Dallas Howard|Irrfan Khan|Vi...   Colin Trevorrow   \n",
      "0      Chris Pratt|Bryce Dallas Howard|Irrfan Khan|Vi...   Colin Trevorrow   \n",
      "1      Tom Hardy|Charlize Theron|Hugh Keays-Byrne|Nic...     George Miller   \n",
      "...                                                  ...               ...   \n",
      "10863  Innokentiy Smoktunovskiy|Oleg Efremov|Georgi Z...    Eldar Ryazanov   \n",
      "10863  Innokentiy Smoktunovskiy|Oleg Efremov|Georgi Z...    Eldar Ryazanov   \n",
      "10864  Tatsuya Mihashi|Akiko Wakabayashi|Mie Hama|Joh...       Woody Allen   \n",
      "10864  Tatsuya Mihashi|Akiko Wakabayashi|Mie Hama|Joh...       Woody Allen   \n",
      "10865  Harold P. Warren|Tom Neyman|John Reynolds|Dian...  Harold P. Warren   \n",
      "\n",
      "                genres  vote_count  vote_average  release_year    budget_adj  \\\n",
      "0               Action        5562           6.5          2015  1.379999e+08   \n",
      "0            Adventure        5562           6.5          2015  1.379999e+08   \n",
      "0      Science Fiction        5562           6.5          2015  1.379999e+08   \n",
      "0             Thriller        5562           6.5          2015  1.379999e+08   \n",
      "1               Action        6185           7.1          2015  1.379999e+08   \n",
      "...                ...         ...           ...           ...           ...   \n",
      "10863          Mystery          11           6.5          1966  0.000000e+00   \n",
      "10863           Comedy          11           6.5          1966  0.000000e+00   \n",
      "10864           Action          22           5.4          1966  0.000000e+00   \n",
      "10864           Comedy          22           5.4          1966  0.000000e+00   \n",
      "10865           Horror          15           1.5          1966  1.276423e+05   \n",
      "\n",
      "        revenue_adj  \n",
      "0      1.392446e+09  \n",
      "0      1.392446e+09  \n",
      "0      1.392446e+09  \n",
      "0      1.392446e+09  \n",
      "1      3.481613e+08  \n",
      "...             ...  \n",
      "10863  0.000000e+00  \n",
      "10863  0.000000e+00  \n",
      "10864  0.000000e+00  \n",
      "10864  0.000000e+00  \n",
      "10865  0.000000e+00  \n",
      "\n",
      "[26955 rows x 11 columns]\n"
     ]
    },
    {
     "name": "stderr",
     "output_type": "stream",
     "text": [
      "<ipython-input-41-c2e35429299d>:7: SettingWithCopyWarning: \n",
      "A value is trying to be set on a copy of a slice from a DataFrame.\n",
      "Try using .loc[row_indexer,col_indexer] = value instead\n",
      "\n",
      "See the caveats in the documentation: https://pandas.pydata.org/pandas-docs/stable/user_guide/indexing.html#returning-a-view-versus-a-copy\n",
      "  data_genre['genres'] = data_genre['genres'].apply(lambda x: x.split(\"|\"))\n"
     ]
    }
   ],
   "source": [
    "#First, let's do the process to the genre column. To do that, I will create a new dataset that does not \n",
    "#contain null values in the genre column.\n",
    "data_genre = data[data['genres'].notna()]\n",
    "\n",
    "#Now, I am going to transform the strings that compose the genre column into lists, \n",
    "#so that after I can apply the command 'explode'.\n",
    "data_genre['genres'] = data_genre['genres'].apply(lambda x: x.split(\"|\"))\n",
    "\n",
    "# Now, I'll apply the command explode to create one row to each name in the genre rows.\n",
    "data_genre = data_genre.explode('genres')\n",
    "print(data_genre)"
   ]
  },
  {
   "cell_type": "code",
   "execution_count": 42,
   "metadata": {},
   "outputs": [
    {
     "name": "stderr",
     "output_type": "stream",
     "text": [
      "<ipython-input-42-ab92f6277b23>:3: SettingWithCopyWarning: \n",
      "A value is trying to be set on a copy of a slice from a DataFrame.\n",
      "Try using .loc[row_indexer,col_indexer] = value instead\n",
      "\n",
      "See the caveats in the documentation: https://pandas.pydata.org/pandas-docs/stable/user_guide/indexing.html#returning-a-view-versus-a-copy\n",
      "  data_cast['cast'] = data_cast['cast'].apply(lambda x: x.split(\"|\"))\n",
      "<ipython-input-42-ab92f6277b23>:8: SettingWithCopyWarning: \n",
      "A value is trying to be set on a copy of a slice from a DataFrame.\n",
      "Try using .loc[row_indexer,col_indexer] = value instead\n",
      "\n",
      "See the caveats in the documentation: https://pandas.pydata.org/pandas-docs/stable/user_guide/indexing.html#returning-a-view-versus-a-copy\n",
      "  data_director['director'] = data_director['director'].apply(lambda x: x.split(\"|\"))\n"
     ]
    }
   ],
   "source": [
    "#I will repeat the process to the column cast.\n",
    "data_cast = data[data['cast'].notna()]\n",
    "data_cast['cast'] = data_cast['cast'].apply(lambda x: x.split(\"|\"))\n",
    "data_cast = data_cast.explode('cast')\n",
    "\n",
    "#To finish, I will create the director dataframe.\n",
    "data_director = data[data['director'].notna()]\n",
    "data_director['director'] = data_director['director'].apply(lambda x: x.split(\"|\"))\n",
    "data_director = data_director.explode('director')"
   ]
  },
  {
   "cell_type": "markdown",
   "metadata": {},
   "source": [
    "<a id='eda'></a>\n",
    "## Exploratory Data Analysis\n",
    "\n",
    "\n",
    "### Research Question 1: Is the movie revenue higher when a certain actor/group of actors is part of the cast? Does that also influence the movie's average vote or the movie's popularity?"
   ]
  },
  {
   "cell_type": "markdown",
   "metadata": {},
   "source": [
    ">First, let's take a look at our variables. Revenue, Vote Average and Popularity are continuous variables, so let's see what we can learn about them using the describe method."
   ]
  },
  {
   "cell_type": "code",
   "execution_count": 43,
   "metadata": {},
   "outputs": [
    {
     "data": {
      "text/plain": [
       "count    1.086500e+04\n",
       "mean     5.136900e+07\n",
       "std      1.446383e+08\n",
       "min      0.000000e+00\n",
       "25%      0.000000e+00\n",
       "50%      0.000000e+00\n",
       "75%      3.370173e+07\n",
       "max      2.827124e+09\n",
       "Name: revenue_adj, dtype: float64"
      ]
     },
     "execution_count": 43,
     "metadata": {},
     "output_type": "execute_result"
    }
   ],
   "source": [
    "data[data['revenue_adj'].notna()]['revenue_adj'].describe()"
   ]
  },
  {
   "cell_type": "markdown",
   "metadata": {},
   "source": [
    ">From this data, we can see that the standart deviation of the revenue is higher than the mean revenue, which means that the revenue varies a lot from movie to movie. We can expect that when we see that we have revenues varying from zero to 2.827124e+09 in the data. The quartile information suggest that there is a lot of zero values in the revenue field. If this is the case, and the null values in this field are actually represented by zeros, then the lack of information of a lot of movie's revenue becomes an limitation to our analysis."
   ]
  },
  {
   "cell_type": "code",
   "execution_count": 44,
   "metadata": {},
   "outputs": [
    {
     "name": "stdout",
     "output_type": "stream",
     "text": [
      "10865\n",
      "6016\n",
      "4849\n"
     ]
    }
   ],
   "source": [
    "print(len(data['revenue_adj']))\n",
    "print(len(data[data['revenue_adj']==0]))\n",
    "print(len(data[data['revenue_adj']!=0]))"
   ]
  },
  {
   "cell_type": "markdown",
   "metadata": {},
   "source": [
    ">As we can see, there are around 6.000 zero values in the revenue field, which is a limitation to our analysis."
   ]
  },
  {
   "cell_type": "code",
   "execution_count": 45,
   "metadata": {},
   "outputs": [
    {
     "name": "stdout",
     "output_type": "stream",
     "text": [
      "0\n"
     ]
    },
    {
     "data": {
      "text/plain": [
       "count    10865.000000\n",
       "mean         5.975012\n",
       "std          0.935138\n",
       "min          1.500000\n",
       "25%          5.400000\n",
       "50%          6.000000\n",
       "75%          6.600000\n",
       "max          9.200000\n",
       "Name: vote_average, dtype: float64"
      ]
     },
     "execution_count": 45,
     "metadata": {},
     "output_type": "execute_result"
    }
   ],
   "source": [
    "print(len(data[data['vote_average']==0]))\n",
    "data[data['vote_average'].notna()]['vote_average'].describe()"
   ]
  },
  {
   "cell_type": "markdown",
   "metadata": {},
   "source": [
    ">Unlike what happened to revenue, Vote Average data does not contain zero values. The mean of Vote Average is 5.975012 and this metric does not vary that much (standart deviation < 1) when compared to revenue data."
   ]
  },
  {
   "cell_type": "code",
   "execution_count": 46,
   "metadata": {},
   "outputs": [
    {
     "name": "stdout",
     "output_type": "stream",
     "text": [
      "0\n"
     ]
    },
    {
     "data": {
      "text/plain": [
       "count    10865.000000\n",
       "mean         0.646446\n",
       "std          1.000231\n",
       "min          0.000065\n",
       "25%          0.207575\n",
       "50%          0.383831\n",
       "75%          0.713857\n",
       "max         32.985763\n",
       "Name: popularity, dtype: float64"
      ]
     },
     "execution_count": 46,
     "metadata": {},
     "output_type": "execute_result"
    }
   ],
   "source": [
    "print(len(data[data['popularity']==0]))\n",
    "data[data['popularity'].notna()]['popularity'].describe()"
   ]
  },
  {
   "cell_type": "markdown",
   "metadata": {},
   "source": [
    "Popularity column also does not have zero values. Note that the difference between maximum and minimum to this metric is very high, probably because of the presence of outliers. I have an hypothesis that popularity index should go from 0 to 1, and the values in the dataset that are higher than 1 must have been messed up by some problem related to number format. Since I have no information if the index should really go from 0 to 1, this problem is a limitation to our analysis."
   ]
  },
  {
   "cell_type": "markdown",
   "metadata": {},
   "source": [
    ">Now, let's see how our categorical variables behave. Since these variables have a lot of unique variables, I decided to analyse them by looking at the number of movies of each category."
   ]
  },
  {
   "cell_type": "code",
   "execution_count": 47,
   "metadata": {},
   "outputs": [
    {
     "data": {
      "text/html": [
       "<div>\n",
       "<style scoped>\n",
       "    .dataframe tbody tr th:only-of-type {\n",
       "        vertical-align: middle;\n",
       "    }\n",
       "\n",
       "    .dataframe tbody tr th {\n",
       "        vertical-align: top;\n",
       "    }\n",
       "\n",
       "    .dataframe thead th {\n",
       "        text-align: right;\n",
       "    }\n",
       "</style>\n",
       "<table border=\"1\" class=\"dataframe\">\n",
       "  <thead>\n",
       "    <tr style=\"text-align: right;\">\n",
       "      <th></th>\n",
       "      <th>id</th>\n",
       "    </tr>\n",
       "  </thead>\n",
       "  <tbody>\n",
       "    <tr>\n",
       "      <th>count</th>\n",
       "      <td>19026.000000</td>\n",
       "    </tr>\n",
       "    <tr>\n",
       "      <th>mean</th>\n",
       "      <td>2.762956</td>\n",
       "    </tr>\n",
       "    <tr>\n",
       "      <th>std</th>\n",
       "      <td>4.745779</td>\n",
       "    </tr>\n",
       "    <tr>\n",
       "      <th>min</th>\n",
       "      <td>1.000000</td>\n",
       "    </tr>\n",
       "    <tr>\n",
       "      <th>25%</th>\n",
       "      <td>1.000000</td>\n",
       "    </tr>\n",
       "    <tr>\n",
       "      <th>50%</th>\n",
       "      <td>1.000000</td>\n",
       "    </tr>\n",
       "    <tr>\n",
       "      <th>75%</th>\n",
       "      <td>2.000000</td>\n",
       "    </tr>\n",
       "    <tr>\n",
       "      <th>max</th>\n",
       "      <td>72.000000</td>\n",
       "    </tr>\n",
       "  </tbody>\n",
       "</table>\n",
       "</div>"
      ],
      "text/plain": [
       "                 id\n",
       "count  19026.000000\n",
       "mean       2.762956\n",
       "std        4.745779\n",
       "min        1.000000\n",
       "25%        1.000000\n",
       "50%        1.000000\n",
       "75%        2.000000\n",
       "max       72.000000"
      ]
     },
     "execution_count": 47,
     "metadata": {},
     "output_type": "execute_result"
    }
   ],
   "source": [
    "aux = data_cast.groupby('cast', as_index=False)['id'].count().sort_values('id', ascending=False)\n",
    "aux.describe()"
   ]
  },
  {
   "cell_type": "markdown",
   "metadata": {},
   "source": [
    ">Most artists in the cast list appear to have been in one or two movies (first, second and third quartile values), and there is a group of artists that have been in many more movies (maximum of 72, although 72 is probably an outlier or an very old artist). This can be a limitation to our analysis once most artists in the dataset have been in a small quantity of movies."
   ]
  },
  {
   "cell_type": "code",
   "execution_count": 48,
   "metadata": {},
   "outputs": [
    {
     "data": {
      "text/html": [
       "<div>\n",
       "<style scoped>\n",
       "    .dataframe tbody tr th:only-of-type {\n",
       "        vertical-align: middle;\n",
       "    }\n",
       "\n",
       "    .dataframe tbody tr th {\n",
       "        vertical-align: top;\n",
       "    }\n",
       "\n",
       "    .dataframe thead th {\n",
       "        text-align: right;\n",
       "    }\n",
       "</style>\n",
       "<table border=\"1\" class=\"dataframe\">\n",
       "  <thead>\n",
       "    <tr style=\"text-align: right;\">\n",
       "      <th></th>\n",
       "      <th>id</th>\n",
       "    </tr>\n",
       "  </thead>\n",
       "  <tbody>\n",
       "    <tr>\n",
       "      <th>count</th>\n",
       "      <td>5362.000000</td>\n",
       "    </tr>\n",
       "    <tr>\n",
       "      <th>mean</th>\n",
       "      <td>2.217643</td>\n",
       "    </tr>\n",
       "    <tr>\n",
       "      <th>std</th>\n",
       "      <td>2.588807</td>\n",
       "    </tr>\n",
       "    <tr>\n",
       "      <th>min</th>\n",
       "      <td>1.000000</td>\n",
       "    </tr>\n",
       "    <tr>\n",
       "      <th>25%</th>\n",
       "      <td>1.000000</td>\n",
       "    </tr>\n",
       "    <tr>\n",
       "      <th>50%</th>\n",
       "      <td>1.000000</td>\n",
       "    </tr>\n",
       "    <tr>\n",
       "      <th>75%</th>\n",
       "      <td>2.000000</td>\n",
       "    </tr>\n",
       "    <tr>\n",
       "      <th>max</th>\n",
       "      <td>46.000000</td>\n",
       "    </tr>\n",
       "  </tbody>\n",
       "</table>\n",
       "</div>"
      ],
      "text/plain": [
       "                id\n",
       "count  5362.000000\n",
       "mean      2.217643\n",
       "std       2.588807\n",
       "min       1.000000\n",
       "25%       1.000000\n",
       "50%       1.000000\n",
       "75%       2.000000\n",
       "max      46.000000"
      ]
     },
     "execution_count": 48,
     "metadata": {},
     "output_type": "execute_result"
    }
   ],
   "source": [
    "aux = data_director.groupby('director', as_index=False)['id'].count().sort_values('id', ascending=False)\n",
    "aux.describe()"
   ]
  },
  {
   "cell_type": "markdown",
   "metadata": {},
   "source": [
    ">Same as the cast, most directors appear to have made one or two movies, while a group of directors got closer to the maximum of 46 movies. This is also a limitation, similar to the cast problem. "
   ]
  },
  {
   "cell_type": "code",
   "execution_count": 49,
   "metadata": {},
   "outputs": [
    {
     "data": {
      "text/html": [
       "<div>\n",
       "<style scoped>\n",
       "    .dataframe tbody tr th:only-of-type {\n",
       "        vertical-align: middle;\n",
       "    }\n",
       "\n",
       "    .dataframe tbody tr th {\n",
       "        vertical-align: top;\n",
       "    }\n",
       "\n",
       "    .dataframe thead th {\n",
       "        text-align: right;\n",
       "    }\n",
       "</style>\n",
       "<table border=\"1\" class=\"dataframe\">\n",
       "  <thead>\n",
       "    <tr style=\"text-align: right;\">\n",
       "      <th></th>\n",
       "      <th>id</th>\n",
       "    </tr>\n",
       "  </thead>\n",
       "  <tbody>\n",
       "    <tr>\n",
       "      <th>count</th>\n",
       "      <td>20.000000</td>\n",
       "    </tr>\n",
       "    <tr>\n",
       "      <th>mean</th>\n",
       "      <td>1347.750000</td>\n",
       "    </tr>\n",
       "    <tr>\n",
       "      <th>std</th>\n",
       "      <td>1260.308228</td>\n",
       "    </tr>\n",
       "    <tr>\n",
       "      <th>min</th>\n",
       "      <td>165.000000</td>\n",
       "    </tr>\n",
       "    <tr>\n",
       "      <th>25%</th>\n",
       "      <td>389.500000</td>\n",
       "    </tr>\n",
       "    <tr>\n",
       "      <th>50%</th>\n",
       "      <td>1072.500000</td>\n",
       "    </tr>\n",
       "    <tr>\n",
       "      <th>75%</th>\n",
       "      <td>1655.750000</td>\n",
       "    </tr>\n",
       "    <tr>\n",
       "      <th>max</th>\n",
       "      <td>4760.000000</td>\n",
       "    </tr>\n",
       "  </tbody>\n",
       "</table>\n",
       "</div>"
      ],
      "text/plain": [
       "                id\n",
       "count    20.000000\n",
       "mean   1347.750000\n",
       "std    1260.308228\n",
       "min     165.000000\n",
       "25%     389.500000\n",
       "50%    1072.500000\n",
       "75%    1655.750000\n",
       "max    4760.000000"
      ]
     },
     "execution_count": 49,
     "metadata": {},
     "output_type": "execute_result"
    }
   ],
   "source": [
    "aux = data_genre.groupby('genres', as_index=False)['id'].count().sort_values('id', ascending=False)\n",
    "aux.describe()"
   ]
  },
  {
   "cell_type": "markdown",
   "metadata": {},
   "source": [
    ">In this case, we have a better distribution of movies among categories, although the standart deviation is high compared to the mean, which implies that the number of movies varies a lot from genre to genre."
   ]
  },
  {
   "cell_type": "markdown",
   "metadata": {
    "collapsed": true
   },
   "source": [
    "#### Dependent variable 1: Revenue"
   ]
  },
  {
   "cell_type": "markdown",
   "metadata": {},
   "source": [
    ">To check if certain actors have great influence in the movie's revenue, let's calculate the mean of the revenue for each actor in the cast list.\n"
   ]
  },
  {
   "cell_type": "code",
   "execution_count": 50,
   "metadata": {},
   "outputs": [],
   "source": [
    "#First, let's create a dataframes grouped by cast that shows the sum, the mean of revenue and also the number of movies by actor/actress.\n",
    "aux = data_cast.groupby('cast', as_index=False).agg(sum_revenue= ('revenue_adj','sum'),mean_revenue=('revenue_adj','mean'),num_movies=('revenue_adj','count'))\n",
    "\n",
    "#Now, let's create two new dataframes, one sorted by revenue sum and the other sorted by revenue mean.\n",
    "aux1 = aux.sort_values('sum_revenue', ascending=False).head(10)\n",
    "aux2 = aux.sort_values('mean_revenue', ascending=False).head(10)"
   ]
  },
  {
   "cell_type": "code",
   "execution_count": 51,
   "metadata": {
    "scrolled": false
   },
   "outputs": [
    {
     "name": "stdout",
     "output_type": "stream",
     "text": [
      "                   cast   sum_revenue  mean_revenue  num_movies\n",
      "6895      Harrison Ford  1.468348e+10  3.496067e+08          42\n",
      "17862        Tom Cruise  1.121280e+10  3.030487e+08          37\n",
      "17877         Tom Hanks  1.067239e+10  2.320084e+08          46\n",
      "5519        Emma Watson  8.806337e+09  6.290241e+08          14\n",
      "7244       Ian McKellen  8.671323e+09  3.941510e+08          22\n",
      "5133       Eddie Murphy  8.572390e+09  2.041045e+08          42\n",
      "9167        Johnny Depp  8.564524e+09  1.861853e+08          46\n",
      "4061   Daniel Radcliffe  8.515082e+09  5.321926e+08          16\n",
      "15798      Rupert Grint  8.358390e+09  5.223994e+08          16\n",
      "2508       Bruce Willis  8.253051e+09  1.331137e+08          62\n"
     ]
    },
    {
     "data": {
      "text/plain": [
       "<matplotlib.legend.Legend at 0x1a7ae20e1f0>"
      ]
     },
     "execution_count": 51,
     "metadata": {},
     "output_type": "execute_result"
    },
    {
     "data": {
      "image/png": "[encoded data removed]",
      "text/plain": [
       "<Figure size 1440x576 with 1 Axes>"
      ]
     },
     "metadata": {
      "needs_background": "light"
     },
     "output_type": "display_data"
    }
   ],
   "source": [
    "#Now, we can plot the mean and sum of revenue of the top ten artists considering the sum of revenue of the movies they were in.\n",
    "#First, let's see who are the top ten artists considering the sum of their movies revenues.\n",
    "plt.figure(figsize=(20, 8))\n",
    "plt.title('Top 10 artists by sum of movies revenue', loc='center', pad=None)\n",
    "plt.xlabel('Cast')\n",
    "plt.ylabel('Sum/Mean Revenue')\n",
    "print(aux1)\n",
    "plt.stackplot(aux1['cast'], aux1['sum_revenue'],alpha = 0.5)\n",
    "plt.stackplot(aux1['cast'], aux1['mean_revenue'],alpha = 0.8)\n",
    "plt.legend(['sum_revenue','mean_revenue'])"
   ]
  },
  {
   "cell_type": "markdown",
   "metadata": {},
   "source": [
    ">We can see that Harrison Ford has the highest sum of revenue of the top artists, but when it comes to the mean, Emma Watson, Danniel Radcliffe and Rupert Grint easily win in this set (Congratulations, Harry Potter movies!). Harrison Ford has also the highest sum of revenue because of the quantity of movies he has already been in (42!). Let's see the same analysis considering the top ten by mean."
   ]
  },
  {
   "cell_type": "code",
   "execution_count": 52,
   "metadata": {},
   "outputs": [
    {
     "name": "stdout",
     "output_type": "stream",
     "text": [
      "                        cast   sum_revenue  mean_revenue  num_movies\n",
      "3898            Daisy Ridley  1.902723e+09  1.902723e+09           1\n",
      "15401     Robert MacNaughton  1.791694e+09  1.791694e+09           1\n",
      "1918        Betty Lou Gerson  1.574815e+09  1.574815e+09           1\n",
      "7453         J. Pat O'Malley  1.574815e+09  1.574815e+09           1\n",
      "1826              Ben Wright  1.574815e+09  1.574815e+09           1\n",
      "12015       Martha Wentworth  1.574815e+09  1.574815e+09           1\n",
      "2122                Bob Peck  1.388863e+09  1.388863e+09           1\n",
      "11321            Louis Prima  1.345551e+09  1.345551e+09           1\n",
      "15168  Richard S. Castellano  1.277914e+09  1.277914e+09           1\n",
      "16128        Santino Fontana  1.192711e+09  1.192711e+09           1\n"
     ]
    },
    {
     "data": {
      "text/plain": [
       "<matplotlib.legend.Legend at 0x1a7aff13430>"
      ]
     },
     "execution_count": 52,
     "metadata": {},
     "output_type": "execute_result"
    },
    {
     "data": {
      "image/png": "[encoded data removed]",
      "text/plain": [
       "<Figure size 1440x576 with 1 Axes>"
      ]
     },
     "metadata": {
      "needs_background": "light"
     },
     "output_type": "display_data"
    }
   ],
   "source": [
    "#Let's see who are the top ten artists considering the mean of their movies revenues.\n",
    "print(aux2)\n",
    "plt.figure(figsize=(20, 8))\n",
    "plt.title('Top 10 artists by mean of movies revenue', loc='center', pad=None)\n",
    "plt.xlabel('Cast')\n",
    "plt.ylabel('Sum/Mean Revenue')\n",
    "plt.bar([i for i in range(10)], aux2['sum_revenue'],tick_label=aux2['cast'])\n",
    "plt.bar([i for i in range(10)], aux2['mean_revenue'],tick_label=aux2['cast'])\n",
    "plt.legend(['sum_revenue','mean_revenue'])\n"
   ]
  },
  {
   "cell_type": "markdown",
   "metadata": {},
   "source": [
    ">We can see in the printed dataset that these artists have only been in one movie. They have made a lot of revenue in that movie, but their presence in the movie does not garantee that they were the reason that the revenue was high. So, let's see the top ten by mean of the artists that made a number of movies bigger then the mean of number of movies per artist."
   ]
  },
  {
   "cell_type": "code",
   "execution_count": 53,
   "metadata": {},
   "outputs": [
    {
     "name": "stdout",
     "output_type": "stream",
     "text": [
      "                   cast   sum_revenue  mean_revenue  num_movies\n",
      "1243    Anthony Daniels  2.678445e+09  8.928151e+08           3\n",
      "7243      Ian McDiarmid  3.216058e+09  8.040146e+08           4\n",
      "15053  Richard Armitage  2.890669e+09  7.226673e+08           4\n",
      "11284     Lorraine Gary  2.730022e+09  6.825054e+08           4\n",
      "13233   Murray Hamilton  3.411102e+09  6.822205e+08           5\n",
      "5519        Emma Watson  8.806337e+09  6.290241e+08          14\n",
      "14519       Phil Harris  1.815678e+09  6.052261e+08           3\n",
      "2808      Carrie Fisher  7.685248e+09  5.911729e+08          13\n",
      "396       Alec Guinness  4.124550e+09  5.892215e+08           7\n",
      "16760    Skandar Keynes  1.676794e+09  5.589313e+08           3\n"
     ]
    },
    {
     "data": {
      "text/plain": [
       "<matplotlib.legend.Legend at 0x1a7b06a9ac0>"
      ]
     },
     "execution_count": 53,
     "metadata": {},
     "output_type": "execute_result"
    },
    {
     "data": {
      "image/png": "[encoded data removed]",
      "text/plain": [
       "<Figure size 1440x576 with 1 Axes>"
      ]
     },
     "metadata": {
      "needs_background": "light"
     },
     "output_type": "display_data"
    }
   ],
   "source": [
    "#Now, we can plot the top ten artists who made more than num_movies.mean() considering the mean of revenue of\n",
    "#the movies they were in.\n",
    "aux3 = aux[aux['num_movies'] > aux['num_movies'].mean()].sort_values('mean_revenue', ascending=False).head(10)\n",
    "print(aux3)\n",
    "plt.figure(figsize=(20, 8))\n",
    "plt.title('Top 10 artists by mean of movies revenue', loc='center', pad=None)\n",
    "plt.xlabel('Cast')\n",
    "plt.ylabel('Sum/Mean Revenue')\n",
    "plt.legend(['Sum of Revenue','Mean of Revenue'])\n",
    "plt.stackplot(aux3['cast'], aux3['sum_revenue'], alpha=0.5)\n",
    "plt.stackplot(aux3['cast'], aux3['mean_revenue'], alpha=0.8)\n",
    "plt.legend(['sum_revenue','mean_revenue'])"
   ]
  },
  {
   "cell_type": "markdown",
   "metadata": {},
   "source": [
    ">From this chart we can see a few artists that made the top ten movie revenue mean. When we look at the printed table, we can see that most of these artists were in only 3 or 4 movies. What stands out is that Emma Watson is in the top ten again. She is not the first but she has the highest sum of revenue, a very good mean of revenue and she already has been in 14 movies. We can also cite Carrie Fischer, which is in a similar situation. The thing is, if you look for these last top ten artist in Google you will notice that Emma Watson is much younger than almost all of them, and probably her movies are more recent. Let's see the average year of the movies that these artists were in."
   ]
  },
  {
   "cell_type": "code",
   "execution_count": 54,
   "metadata": {},
   "outputs": [
    {
     "name": "stdout",
     "output_type": "stream",
     "text": [
      "                   cast   sum_revenue  mean_revenue  num_movies     avg_year\n",
      "1243    Anthony Daniels  2.678445e+09  8.928151e+08           3  1980.333333\n",
      "7243      Ian McDiarmid  3.216058e+09  8.040146e+08           4  2001.250000\n",
      "15053  Richard Armitage  2.890669e+09  7.226673e+08           4  2013.250000\n",
      "11284     Lorraine Gary  2.730022e+09  6.825054e+08           4  1979.750000\n",
      "13233   Murray Hamilton  3.411102e+09  6.822205e+08           5  1975.800000\n",
      "5519        Emma Watson  8.806337e+09  6.290241e+08          14  2008.428571\n",
      "14519       Phil Harris  1.815678e+09  6.052261e+08           3  1970.000000\n",
      "2808      Carrie Fisher  7.685248e+09  5.911729e+08          13  1990.692308\n",
      "396       Alec Guinness  4.124550e+09  5.892215e+08           7  1973.428571\n",
      "16760    Skandar Keynes  1.676794e+09  5.589313e+08           3  2007.666667\n"
     ]
    }
   ],
   "source": [
    "aux4 = data_cast.groupby('cast', as_index=False).agg(sum_revenue= ('revenue_adj','sum'),mean_revenue=('revenue_adj','mean'),num_movies=('revenue_adj','count'),avg_year=('release_year','mean'))\n",
    "aux4 = aux4[aux4['num_movies'] > aux4['num_movies'].mean()].sort_values('mean_revenue', ascending=False).head(10)\n",
    "print(aux4)"
   ]
  },
  {
   "cell_type": "markdown",
   "metadata": {},
   "source": [
    ">As I suspected, Emma Watson is in a more recent group of movies, similar to Richard Armitage and Skandar Keynes. I suspect older movies revenues were impacted not only by inflation and similar factors (this effect is theoretically removed with the adjusted values of revenue), but also by of level of access of the population to movies and advances in the technology available to produce movies. Let's see who are the top ten artists with movies more recent and with older movies then the average of year of release.\n",
    "\n"
   ]
  },
  {
   "cell_type": "code",
   "execution_count": 55,
   "metadata": {},
   "outputs": [
    {
     "name": "stdout",
     "output_type": "stream",
     "text": [
      "                   cast   sum_revenue  mean_revenue  num_movies     avg_year\n",
      "7243      Ian McDiarmid  3.216058e+09  8.040146e+08           4  2001.250000\n",
      "15053  Richard Armitage  2.890669e+09  7.226673e+08           4  2013.250000\n",
      "5519        Emma Watson  8.806337e+09  6.290241e+08          14  2008.428571\n",
      "16760    Skandar Keynes  1.676794e+09  5.589313e+08           3  2007.666667\n",
      "4061   Daniel Radcliffe  8.515082e+09  5.321926e+08          16  2008.500000\n",
      "15798      Rupert Grint  8.358390e+09  5.223994e+08          16  2008.812500\n",
      "7492     Jack Davenport  1.981785e+09  4.954461e+08           4  2003.000000\n",
      "13926     Orlando Bloom  7.474890e+09  4.396994e+08          17  2006.235294\n",
      "1131    Anna Popplewell  1.261108e+09  4.203692e+08           3  2008.333333\n",
      "18708   William Moseley  1.261108e+09  4.203692e+08           3  2008.666667\n",
      "                     cast   sum_revenue  mean_revenue  num_movies     avg_year\n",
      "1243      Anthony Daniels  2.678445e+09  8.928151e+08           3  1980.333333\n",
      "11284       Lorraine Gary  2.730022e+09  6.825054e+08           4  1979.750000\n",
      "13233     Murray Hamilton  3.411102e+09  6.822205e+08           5  1975.800000\n",
      "14519         Phil Harris  1.815678e+09  6.052261e+08           3  1970.000000\n",
      "2808        Carrie Fisher  7.685248e+09  5.911729e+08          13  1990.692308\n",
      "396         Alec Guinness  4.124550e+09  5.892215e+08           7  1973.428571\n",
      "2028   Billy Dee Williams  2.743530e+09  5.487060e+08           5  1983.000000\n",
      "12661       Michael Gough  1.428442e+09  4.761473e+08           3  1993.333333\n",
      "11073         Linda Blair  2.280261e+09  4.560522e+08           5  1981.000000\n",
      "4765        Dick Van Dyke  1.340403e+09  4.468009e+08           3  1979.333333\n"
     ]
    }
   ],
   "source": [
    "aux5 = data_cast.groupby('cast', as_index=False).agg(sum_revenue= ('revenue_adj','sum'),mean_revenue=('revenue_adj','mean'),num_movies=('revenue_adj','count'),avg_year=('release_year','mean'))\n",
    "aux6 = aux5[(aux5['num_movies'] > aux5['num_movies'].mean())&(aux5['avg_year'] > aux5['avg_year'].mean())].sort_values('mean_revenue', ascending=False).head(10)\n",
    "aux7 = aux5[(aux5['num_movies'] > aux5['num_movies'].mean())&(aux5['avg_year'] <= aux5['avg_year'].mean())].sort_values('mean_revenue', ascending=False).head(10)\n",
    "print(aux6)\n",
    "print(aux7)"
   ]
  },
  {
   "cell_type": "markdown",
   "metadata": {},
   "source": [
    "#### Dependent variables 2 and 3: Average Vote and Popularity"
   ]
  },
  {
   "cell_type": "markdown",
   "metadata": {},
   "source": [
    ">Let's now analyse vote_average and popularity. In the case of popularity, we will also separate the artists in two groups: mean of release year of movies higher or lower than the dataset's mean. To both variables, I will consider only those artists who were in more movies than the datasets mean of number of movies per artist."
   ]
  },
  {
   "cell_type": "code",
   "execution_count": 56,
   "metadata": {},
   "outputs": [],
   "source": [
    "#Creating the datasets\n",
    "aux = data_cast.groupby('cast', as_index=False).agg(mean_avg_vote=('vote_average','mean'),mean_popularity=('popularity','mean'),num_movies=('revenue_adj','count'),avg_year=('release_year','mean'))\n",
    "aux1 = aux[(aux['num_movies'] > aux['num_movies'].mean())].sort_values('mean_avg_vote', ascending=False).head(10)\n",
    "aux2 = aux[(aux['num_movies'] > aux['num_movies'].mean())&(aux['avg_year'] > aux['avg_year'].mean())].sort_values('mean_popularity', ascending=False).head(10)\n",
    "aux3 = aux[(aux['num_movies'] > aux['num_movies'].mean())&(aux['avg_year'] <= aux['avg_year'].mean())].sort_values('mean_popularity', ascending=False).head(10)"
   ]
  },
  {
   "cell_type": "code",
   "execution_count": 57,
   "metadata": {},
   "outputs": [
    {
     "name": "stdout",
     "output_type": "stream",
     "text": [
      "                       cast  mean_avg_vote  num_movies\n",
      "11027            Liam Payne       8.200000           3\n",
      "13490           Niall Horan       8.200000           3\n",
      "11322       Louis Tomlinson       8.200000           3\n",
      "6925           Harry Styles       8.200000           3\n",
      "5961   Francis Ford Coppola       7.900000           3\n",
      "8292          Jenna Coleman       7.725000           4\n",
      "1954              Bill Burr       7.660000           5\n",
      "1141           Anna Wintour       7.566667           3\n",
      "4220             Dave Grohl       7.520000           5\n",
      "7981          Jason Baldwin       7.500000           3\n"
     ]
    },
    {
     "data": {
      "text/plain": [
       "<BarContainer object of 10 artists>"
      ]
     },
     "execution_count": 57,
     "metadata": {},
     "output_type": "execute_result"
    },
    {
     "data": {
      "image/png": "[encoded data removed]",
      "text/plain": [
       "<Figure size 720x576 with 1 Axes>"
      ]
     },
     "metadata": {
      "needs_background": "light"
     },
     "output_type": "display_data"
    }
   ],
   "source": [
    "#Printing the top 10 ranking\n",
    "print(aux1[['cast','mean_avg_vote','num_movies']])\n",
    "plt.figure(figsize=(10, 8))\n",
    "plt.title('Top 10 artists by mean of movies vote average', loc='center', pad=None)\n",
    "plt.xlabel('Vote Average Mean')\n",
    "plt.ylabel('Cast')\n",
    "plt.barh([i for i in range(10)], aux1['mean_avg_vote'],tick_label=aux1['cast'],color='red',alpha=0.5)"
   ]
  },
  {
   "cell_type": "markdown",
   "metadata": {},
   "source": [
    ">From the chart above, we can see that the top 4 in average vote are Harry Styles, Louis Tomlinson, Liam Payne e Niall Horan. When it comes to the older movies, Francis Ford Coppola is the winner. None of the participants of the two lists above have been in more than 5 movies. The score suggests that theses artists are very good at acting, but maybe they can maintain this average because of the few movies we have available to consider."
   ]
  },
  {
   "cell_type": "code",
   "execution_count": 58,
   "metadata": {},
   "outputs": [
    {
     "name": "stdout",
     "output_type": "stream",
     "text": [
      "                      cast  mean_avg_vote  mean_popularity  num_movies  \\\n",
      "13581        Nick Robinson       6.100000         6.882972           5   \n",
      "17620           Theo James       5.925000         6.767697           4   \n",
      "7370           Irrfan Khan       6.733333         6.211766           6   \n",
      "16474         Shane Brolly       6.333333         6.177761           3   \n",
      "2539   Bryce Dallas Howard       6.442857         5.876791           7   \n",
      "3246           Chris Pratt       6.130000         5.594719          10   \n",
      "4209         Dave Bautista       5.766667         5.309473           3   \n",
      "15053     Richard Armitage       6.825000         5.004955           4   \n",
      "16461     Shailene Woodley       6.750000         4.131959           6   \n",
      "5065         Dylan O'Brien       6.833333         4.030140           3   \n",
      "\n",
      "          avg_year  \n",
      "13581  2010.600000  \n",
      "17620  2014.000000  \n",
      "7370   2010.833333  \n",
      "16474  2006.000000  \n",
      "2539   2009.285714  \n",
      "3246   2011.700000  \n",
      "4209   2013.333333  \n",
      "15053  2013.250000  \n",
      "16461  2013.500000  \n",
      "5065   2013.666667  \n"
     ]
    },
    {
     "data": {
      "text/plain": [
       "<BarContainer object of 10 artists>"
      ]
     },
     "execution_count": 58,
     "metadata": {},
     "output_type": "execute_result"
    },
    {
     "data": {
      "image/png": "[encoded data removed]",
      "text/plain": [
       "<Figure size 720x576 with 1 Axes>"
      ]
     },
     "metadata": {
      "needs_background": "light"
     },
     "output_type": "display_data"
    }
   ],
   "source": [
    "#Printing the top 10 ranking\n",
    "print(aux2)\n",
    "plt.figure(figsize=(10, 8))\n",
    "plt.title('Top 10 artists by mean of movies popularity', loc='center', pad=None)\n",
    "plt.xlabel('Popularity Mean')\n",
    "plt.ylabel('Cast')\n",
    "plt.barh([i for i in range(10)], aux2['mean_popularity'],tick_label=aux2['cast'],color='purple',alpha=0.5)"
   ]
  },
  {
   "cell_type": "code",
   "execution_count": 59,
   "metadata": {
    "scrolled": false
   },
   "outputs": [
    {
     "name": "stdout",
     "output_type": "stream",
     "text": [
      "                     cast  mean_avg_vote  mean_popularity  num_movies  \\\n",
      "7182     Hugh Keays-Byrne       6.266667        10.211471           3   \n",
      "1243      Anthony Daniels       6.333333         3.630353           3   \n",
      "2808        Carrie Fisher       6.361538         3.059257          13   \n",
      "13241  Mykelti Williamson       6.466667         2.994718           3   \n",
      "16321       Scott Weinger       6.433333         2.552223           3   \n",
      "11091        Linda Larkin       6.433333         2.552223           3   \n",
      "396         Alec Guinness       6.942857         2.365942           7   \n",
      "17646    Thomas F. Wilson       6.225000         2.332113           4   \n",
      "12661       Michael Gough       6.700000         2.318237           3   \n",
      "14519         Phil Harris       6.966667         2.253384           3   \n",
      "\n",
      "          avg_year  \n",
      "7182   1997.666667  \n",
      "1243   1980.333333  \n",
      "2808   1990.692308  \n",
      "13241  1993.666667  \n",
      "16321  1994.000000  \n",
      "11091  1994.000000  \n",
      "396    1973.428571  \n",
      "17646  1994.000000  \n",
      "12661  1993.333333  \n",
      "14519  1970.000000  \n"
     ]
    },
    {
     "data": {
      "text/plain": [
       "<BarContainer object of 10 artists>"
      ]
     },
     "execution_count": 59,
     "metadata": {},
     "output_type": "execute_result"
    },
    {
     "data": {
      "image/png": "[encoded data removed]",
      "text/plain": [
       "<Figure size 720x576 with 1 Axes>"
      ]
     },
     "metadata": {
      "needs_background": "light"
     },
     "output_type": "display_data"
    }
   ],
   "source": [
    "#Printing the top 10 ranking\n",
    "print(aux3)\n",
    "plt.figure(figsize=(10, 8))\n",
    "plt.title('Top 10 artists by mean of movies popularity', loc='center', pad=None)\n",
    "plt.xlabel('Popularity Mean')\n",
    "plt.ylabel('Cast')\n",
    "plt.barh([i for i in range(10)], aux3['mean_popularity'],tick_label=aux3['cast'],color='purple',alpha=0.5)"
   ]
  },
  {
   "cell_type": "markdown",
   "metadata": {},
   "source": [
    ">About these last two charts we can say that Hugh Keays-Byrne stands out when it comes to popularity of older movies. In the new movies, the winners are Nick Robinson and Theo James. Popularity does not seem to have any relation to average vote. The cited artist have not made more than 5 movies, so I believe the champions of popularity are Carrie Fischer and Chris Pratt, with 13 and 10 movies, respectively."
   ]
  },
  {
   "cell_type": "markdown",
   "metadata": {},
   "source": [
    "### Research Question 2: Is the movie revenue higher when a certain person is directing the movie? Does the director also influence the movie's vote average  or the movie's popularity? "
   ]
  },
  {
   "cell_type": "code",
   "execution_count": 60,
   "metadata": {},
   "outputs": [],
   "source": [
    "#I will start by creating all the dataframes that I will need based on what was done in the first section.\n",
    "aux = data_director.groupby('director', as_index=False).agg(sum_revenue= ('revenue_adj','sum'),mean_revenue=('revenue_adj','mean'),mean_avg_vote=('vote_average','mean'),mean_popularity=('popularity','mean'),num_movies=('revenue_adj','count'),avg_year=('release_year','mean'))\n",
    "aux1 = aux[aux['num_movies'] > aux['num_movies'].mean()]\n",
    "aux2 = aux[(aux['num_movies'] > aux['num_movies'].mean())&(aux['avg_year'] > aux['avg_year'].mean())]\n",
    "aux3 = aux[(aux['num_movies'] > aux['num_movies'].mean())&(aux['avg_year'] <= aux['avg_year'].mean())]"
   ]
  },
  {
   "cell_type": "markdown",
   "metadata": {},
   "source": [
    "#### Dependent variable 1: Revenue"
   ]
  },
  {
   "cell_type": "code",
   "execution_count": 61,
   "metadata": {},
   "outputs": [
    {
     "name": "stdout",
     "output_type": "stream",
     "text": [
      "              director   sum_revenue  mean_revenue  num_movies     avg_year\n",
      "4857  Steven Spielberg  1.526692e+10  5.088975e+08          30  1993.366667\n",
      "2124     James Cameron  7.327221e+09  6.661110e+08          11  1994.090909\n",
      "4013     Peter Jackson  7.019848e+09  5.014177e+08          14  2000.857143\n",
      "1777      George Lucas  6.313919e+09  1.052320e+09           6  1987.833333\n",
      "4372   Robert Zemeckis  5.655648e+09  3.326852e+08          17  1995.529412\n",
      "3471       Michael Bay  5.460672e+09  4.964247e+08          11  2004.727273\n",
      "821     Chris Columbus  5.094077e+09  3.638627e+08          14  1999.071429\n",
      "4981        Tim Burton  4.660141e+09  2.330071e+08          20  1998.400000\n",
      "4418        Ron Howard  4.527095e+09  2.057771e+08          22  1997.818182\n",
      "4263      Ridley Scott  4.219566e+09  1.834594e+08          23  1998.695652\n"
     ]
    },
    {
     "data": {
      "text/plain": [
       "<matplotlib.legend.Legend at 0x1a7b0c91ac0>"
      ]
     },
     "execution_count": 61,
     "metadata": {},
     "output_type": "execute_result"
    },
    {
     "data": {
      "image/png": "[encoded data removed]",
      "text/plain": [
       "<Figure size 1800x576 with 1 Axes>"
      ]
     },
     "metadata": {
      "needs_background": "light"
     },
     "output_type": "display_data"
    }
   ],
   "source": [
    "#Printing the top 10 ranking\n",
    "aux4 = aux1.sort_values('sum_revenue', ascending=False).head(10)\n",
    "print(aux4[['director','sum_revenue','mean_revenue','num_movies','avg_year']])\n",
    "plt.figure(figsize=(25, 8))\n",
    "plt.title('Top 10 directors by sum of movies revenue', loc='center', pad=None)\n",
    "plt.xlabel('Director')\n",
    "plt.ylabel('Sum/Mean Revenue')\n",
    "plt.stackplot(aux4['director'], aux4['sum_revenue'], alpha=0.5)\n",
    "plt.stackplot(aux4['director'], aux4['mean_revenue'], alpha=0.8)\n",
    "plt.legend(['sum_revenue','mean_revenue'])\n"
   ]
  },
  {
   "cell_type": "markdown",
   "metadata": {},
   "source": [
    ">Steven Spielberg is from far the top 1 of highest sum of movies revenue. We can relate that to the number of movies that he have already made (29!), which is much more than many of the others in the list. But we can see that, in case of the directors, despite what we saw when looking at cast, all of the diretors in the top 10 have made a considerable amount of movies. We can also see that in this case, the average release year of movies is not so different among the directors, and tend to include older movies."
   ]
  },
  {
   "cell_type": "code",
   "execution_count": 62,
   "metadata": {},
   "outputs": [
    {
     "name": "stdout",
     "output_type": "stream",
     "text": [
      "            director   sum_revenue  mean_revenue  num_movies     avg_year\n",
      "1777    George Lucas  6.313919e+09  1.052320e+09           6  1987.833333\n",
      "3091     Lee Unkrich  3.416071e+09  8.540177e+08           4  2003.250000\n",
      "4092   Pierre Coffin  2.516372e+09  8.387905e+08           3  2012.666667\n",
      "1276     David Yates  4.177455e+09  8.354911e+08           5  2008.400000\n",
      "967    Conrad Vernon  2.159055e+09  7.196849e+08           3  2008.333333\n",
      "2068     J.J. Abrams  3.414677e+09  6.829354e+08           5  2010.800000\n",
      "2124   James Cameron  7.327221e+09  6.661110e+08          11  1994.090909\n",
      "264   Andrew Stanton  2.308840e+09  5.772101e+08           4  2005.250000\n",
      "5060     Tom McGrath  2.237664e+09  5.594160e+08           4  2008.750000\n",
      "2778     Joss Whedon  2.779224e+09  5.558448e+08           5  2010.400000\n"
     ]
    },
    {
     "data": {
      "text/plain": [
       "<matplotlib.legend.Legend at 0x1a7b0d073d0>"
      ]
     },
     "execution_count": 62,
     "metadata": {},
     "output_type": "execute_result"
    },
    {
     "data": {
      "image/png": "[encoded data removed]",
      "text/plain": [
       "<Figure size 1800x576 with 1 Axes>"
      ]
     },
     "metadata": {
      "needs_background": "light"
     },
     "output_type": "display_data"
    }
   ],
   "source": [
    "#Printing the top 10 ranking\n",
    "aux5 = aux1.sort_values('mean_revenue', ascending=False).head(10)\n",
    "print(aux5[['director','sum_revenue','mean_revenue','num_movies','avg_year']])\n",
    "plt.figure(figsize=(25, 8))\n",
    "plt.title('Top 10 directors by mean of movies revenue', loc='center', pad=None)\n",
    "plt.xlabel('Director')\n",
    "plt.ylabel('Sum/Mean Revenue')\n",
    "plt.stackplot(aux5['director'], aux5['sum_revenue'], alpha = 0.5)\n",
    "plt.stackplot(aux5['director'], aux5['mean_revenue'], alpha = 0.8)\n",
    "plt.legend(['sum_revenue','mean_revenue'])"
   ]
  },
  {
   "cell_type": "markdown",
   "metadata": {},
   "source": [
    ">Here we can see that George Lucas had the best average revenue per movie, and he was fourth in the top ten by sum of revenue. In the case of directors, two of them compose not only the mean revenue top ten but also the sum revenue top ten: George Lucas and James Cameron, so we can say that these directors are more common to have higher revenues in their movies."
   ]
  },
  {
   "cell_type": "markdown",
   "metadata": {},
   "source": [
    "#### Dependent variable 2: Average Vote"
   ]
  },
  {
   "cell_type": "code",
   "execution_count": 63,
   "metadata": {},
   "outputs": [
    {
     "name": "stdout",
     "output_type": "stream",
     "text": [
      "               director  mean_avg_vote  num_movies     avg_year\n",
      "4562      Scot McFadyen       8.233333           3  2008.000000\n",
      "4504           Sam Dunn       7.950000           4  2008.000000\n",
      "23          Adam Curtis       7.900000           3  2007.000000\n",
      "3916       Paul Dugdale       7.733333           3  2012.333333\n",
      "1383     Don Hertzfeldt       7.700000           3  2009.000000\n",
      "4656    Shannon Hartman       7.566667           6  2010.333333\n",
      "906   Christopher Nolan       7.470000          10  2005.200000\n",
      "4741        Stan Lathan       7.466667           3  1996.000000\n",
      "3158         Louis C.K.       7.433333           6  2009.666667\n",
      "112      Albert Maysles       7.433333           3  1986.333333\n"
     ]
    },
    {
     "data": {
      "text/plain": [
       "<BarContainer object of 10 artists>"
      ]
     },
     "execution_count": 63,
     "metadata": {},
     "output_type": "execute_result"
    },
    {
     "data": {
      "image/png": "[encoded data removed]",
      "text/plain": [
       "<Figure size 720x576 with 1 Axes>"
      ]
     },
     "metadata": {
      "needs_background": "light"
     },
     "output_type": "display_data"
    }
   ],
   "source": [
    "#Printing the top 10 ranking\n",
    "aux6 = aux1.sort_values('mean_avg_vote', ascending=False).head(10)\n",
    "print(aux6[['director','mean_avg_vote','num_movies','avg_year']])\n",
    "plt.figure(figsize=(10, 8))\n",
    "plt.title('Top 10 directors by mean of average vote', loc='center', pad=None)\n",
    "plt.ylabel('Director')\n",
    "plt.xlabel('Vote Average Mean')\n",
    "plt.barh([i for i in range(10)], aux6['mean_avg_vote'],tick_label=aux6['director'],color='red',alpha=0.5)"
   ]
  },
  {
   "cell_type": "markdown",
   "metadata": {},
   "source": [
    ">When it comes to movie vote average, it seems that more recent movies have better score. Most of the directors that made it to the top ten of mean vote average have not made more than three movies, except for Christopher Nolan, so I conclude that he is more common to have higher vote average score in their movies."
   ]
  },
  {
   "cell_type": "markdown",
   "metadata": {},
   "source": [
    "#### Dependent variable 3: Popularity"
   ]
  },
  {
   "cell_type": "code",
   "execution_count": 64,
   "metadata": {},
   "outputs": [],
   "source": [
    "#Sorting dataframes to create the ranking\n",
    "aux7 = aux2.sort_values('mean_popularity', ascending=False).head(10)\n",
    "aux8 = aux3.sort_values('mean_popularity', ascending=False).head(10)"
   ]
  },
  {
   "cell_type": "code",
   "execution_count": 65,
   "metadata": {},
   "outputs": [
    {
     "name": "stdout",
     "output_type": "stream",
     "text": [
      "               director  mean_popularity  num_movies     avg_year\n",
      "906   Christopher Nolan         6.195521          10  2005.200000\n",
      "4092      Pierre Coffin         5.041612           3  2012.666667\n",
      "2068        J.J. Abrams         4.800957           5  2010.800000\n",
      "2485          Joe Russo         4.667042           3  2007.333333\n",
      "337       Anthony Russo         4.667042           3  2007.333333\n",
      "1637   Francis Lawrence         4.437604           6  2010.833333\n",
      "3096        Len Wiseman         4.380968           4  2007.000000\n",
      "2146         James Gunn         4.174092           4  2010.750000\n",
      "1276        David Yates         4.163195           5  2008.400000\n",
      "3970        Pete Docter         3.891359           4  2006.500000\n"
     ]
    },
    {
     "data": {
      "text/plain": [
       "<BarContainer object of 10 artists>"
      ]
     },
     "execution_count": 65,
     "metadata": {},
     "output_type": "execute_result"
    },
    {
     "data": {
      "image/png": "[encoded data removed]",
      "text/plain": [
       "<Figure size 720x576 with 1 Axes>"
      ]
     },
     "metadata": {
      "needs_background": "light"
     },
     "output_type": "display_data"
    }
   ],
   "source": [
    "#Printing the top 10 ranking\n",
    "print(aux7[['director','mean_popularity','num_movies','avg_year']])\n",
    "plt.figure(figsize=(10, 8))\n",
    "plt.title('Top 10 directors by mean of popularity', loc='center', pad=None)\n",
    "plt.ylabel('Director')\n",
    "plt.xlabel('Popularity Mean')\n",
    "plt.barh([i for i in range(10)], aux7['mean_popularity'],tick_label=aux7['director'],color='purple',alpha=0.5)"
   ]
  },
  {
   "cell_type": "code",
   "execution_count": 66,
   "metadata": {},
   "outputs": [
    {
     "name": "stdout",
     "output_type": "stream",
     "text": [
      "               director  mean_popularity  num_movies     avg_year\n",
      "1777       George Lucas         3.910306           6  1987.833333\n",
      "1780      George Miller         3.766965          10  1993.700000\n",
      "4114  Quentin Tarantino         3.694476          14  2002.714286\n",
      "4013      Peter Jackson         3.505788          14  2000.857143\n",
      "1168      David Fincher         3.447978          10  2003.500000\n",
      "171     Alfonso CuarÃ³n         2.866850           5  2003.200000\n",
      "2602        John Musker         2.855968           6  1995.833333\n",
      "4415       Ron Clements         2.855968           6  1995.833333\n",
      "3091        Lee Unkrich         2.791537           4  2003.250000\n",
      "2124      James Cameron         2.655021          11  1994.090909\n"
     ]
    },
    {
     "data": {
      "text/plain": [
       "<BarContainer object of 10 artists>"
      ]
     },
     "execution_count": 66,
     "metadata": {},
     "output_type": "execute_result"
    },
    {
     "data": {
      "image/png": "[encoded data removed]",
      "text/plain": [
       "<Figure size 720x576 with 1 Axes>"
      ]
     },
     "metadata": {
      "needs_background": "light"
     },
     "output_type": "display_data"
    }
   ],
   "source": [
    "#Printing the top 10 ranking\n",
    "print(aux8[['director','mean_popularity','num_movies','avg_year']])\n",
    "plt.figure(figsize=(10, 8))\n",
    "plt.title('Top 10 directors by mean of popularity', loc='center', pad=None)\n",
    "plt.ylabel('Director')\n",
    "plt.xlabel('Popularity Mean')\n",
    "plt.barh([i for i in range(10)], aux8['mean_popularity'],tick_label=aux8['director'], color='purple', alpha=0.5)"
   ]
  },
  {
   "cell_type": "markdown",
   "metadata": {},
   "source": [
    ">When it comes to popularity, we can see in the last chart that older movies had lower popularity scores, even in the top ten. As for the more recent movies, Christopher Nolan clearly stands out, with an average of 6,19 that includes ten movies."
   ]
  },
  {
   "cell_type": "markdown",
   "metadata": {},
   "source": [
    "### Research Question 3: Which genres usually present higher revenues/scores/popularity?"
   ]
  },
  {
   "cell_type": "markdown",
   "metadata": {},
   "source": [
    ">Similar to the previous questions, let's create a ranking of the top 5 genres considering each of the dependent variables: revenue, popularity and average vote."
   ]
  },
  {
   "cell_type": "code",
   "execution_count": 67,
   "metadata": {},
   "outputs": [],
   "source": [
    "#I will start by creating all the dataframes that I will need based on what was done in the first section.\n",
    "aux = data_genre.groupby('genres', as_index=False).agg(sum_revenue= ('revenue_adj','sum'),mean_revenue=('revenue_adj','mean'),mean_avg_vote=('vote_average','mean'),mean_popularity=('popularity','mean'),num_movies=('revenue_adj','count'),avg_year=('release_year','mean'))\n",
    "aux = aux[aux['num_movies'] > aux['num_movies'].mean()]"
   ]
  },
  {
   "cell_type": "markdown",
   "metadata": {},
   "source": [
    "#### Dependent variable 1: Revenue"
   ]
  },
  {
   "cell_type": "code",
   "execution_count": 68,
   "metadata": {},
   "outputs": [
    {
     "name": "stdout",
     "output_type": "stream",
     "text": [
      "       genres  num_movies\n",
      "0      Action        2384\n",
      "1   Adventure        1471\n",
      "6       Drama        4760\n",
      "3      Comedy        3793\n",
      "17   Thriller        2907\n"
     ]
    },
    {
     "data": {
      "text/plain": [
       "<BarContainer object of 5 artists>"
      ]
     },
     "execution_count": 68,
     "metadata": {},
     "output_type": "execute_result"
    },
    {
     "data": {
      "image/png": "[encoded data removed]",
      "text/plain": [
       "<Figure size 1080x360 with 1 Axes>"
      ]
     },
     "metadata": {
      "needs_background": "light"
     },
     "output_type": "display_data"
    }
   ],
   "source": [
    "#Now, let's plot a few tables and charts to see the top 5.\n",
    "aux1 = aux.sort_values('sum_revenue', ascending=False).head(5)\n",
    "print(aux1[['genres', 'num_movies']])\n",
    "plt.figure(figsize=(15, 5))\n",
    "plt.title('Top 5 genres by sum of movies revenue', loc='center', pad=None)\n",
    "plt.xlabel('Genre')\n",
    "plt.ylabel('Sum of Revenue')\n",
    "plt.bar([i for i in range(5)], aux1['sum_revenue'],tick_label=aux1['genres'])"
   ]
  },
  {
   "cell_type": "code",
   "execution_count": 69,
   "metadata": {
    "scrolled": false
   },
   "outputs": [
    {
     "name": "stdout",
     "output_type": "stream",
     "text": [
      "       genres  num_movies\n",
      "1   Adventure        1471\n",
      "0      Action        2384\n",
      "4       Crime        1354\n",
      "17   Thriller        2907\n",
      "14    Romance        1712\n"
     ]
    },
    {
     "data": {
      "text/plain": [
       "<BarContainer object of 5 artists>"
      ]
     },
     "execution_count": 69,
     "metadata": {},
     "output_type": "execute_result"
    },
    {
     "data": {
      "image/png": "[encoded data removed]",
      "text/plain": [
       "<Figure size 1080x360 with 1 Axes>"
      ]
     },
     "metadata": {
      "needs_background": "light"
     },
     "output_type": "display_data"
    }
   ],
   "source": [
    "#Printing the top 5 ranking\n",
    "aux2 = aux.sort_values('mean_revenue', ascending=False).head(5)\n",
    "print(aux2[['genres', 'num_movies']])\n",
    "plt.figure(figsize=(15, 5))\n",
    "plt.title('Top 5 genres by mean of movies revenue', loc='center', pad=None)\n",
    "plt.xlabel('Genre')\n",
    "plt.ylabel('Mean of Revenue')\n",
    "plt.bar([i for i in range(5)], aux2['mean_revenue'],tick_label=aux2['genres'])"
   ]
  },
  {
   "cell_type": "markdown",
   "metadata": {},
   "source": [
    ">Although Adventure and Action have the lowest number of movies made in the top five, they both stand out in sum of revenue and mean of revenue."
   ]
  },
  {
   "cell_type": "markdown",
   "metadata": {},
   "source": [
    "#### Dependent variable 2: Vote Average"
   ]
  },
  {
   "cell_type": "code",
   "execution_count": 70,
   "metadata": {},
   "outputs": [
    {
     "name": "stdout",
     "output_type": "stream",
     "text": [
      "       genres  num_movies\n",
      "6       Drama        4760\n",
      "4       Crime        1354\n",
      "14    Romance        1712\n",
      "1   Adventure        1471\n",
      "3      Comedy        3793\n"
     ]
    },
    {
     "data": {
      "text/plain": [
       "<BarContainer object of 5 artists>"
      ]
     },
     "execution_count": 70,
     "metadata": {},
     "output_type": "execute_result"
    },
    {
     "data": {
      "image/png": "[encoded data removed]",
      "text/plain": [
       "<Figure size 1080x360 with 1 Axes>"
      ]
     },
     "metadata": {
      "needs_background": "light"
     },
     "output_type": "display_data"
    }
   ],
   "source": [
    "#Printing the top 5 ranking\n",
    "aux3 = aux.sort_values('mean_avg_vote', ascending=False).head(5)\n",
    "print(aux3[['genres', 'num_movies']])\n",
    "plt.figure(figsize=(15, 5))\n",
    "plt.title('Top 5 genres by mean of vote average', loc='center', pad=None)\n",
    "plt.xlabel('Genre')\n",
    "plt.ylabel('Vote Average Mean')\n",
    "plt.bar([i for i in range(5)], aux3['mean_avg_vote'],tick_label=aux3['genres'],color='red',alpha=0.5)"
   ]
  },
  {
   "cell_type": "markdown",
   "metadata": {},
   "source": [
    ">Documentary is the top genre when it comes to vote average, ant it's score is close to 7. The other components of the top 5 have similar scores."
   ]
  },
  {
   "cell_type": "markdown",
   "metadata": {},
   "source": [
    "#### Dependent variable 3: Popularity"
   ]
  },
  {
   "cell_type": "code",
   "execution_count": 71,
   "metadata": {},
   "outputs": [
    {
     "name": "stdout",
     "output_type": "stream",
     "text": [
      "       genres  num_movies\n",
      "1   Adventure        1471\n",
      "0      Action        2384\n",
      "4       Crime        1354\n",
      "17   Thriller        2907\n",
      "3      Comedy        3793\n"
     ]
    },
    {
     "data": {
      "text/plain": [
       "<BarContainer object of 5 artists>"
      ]
     },
     "execution_count": 71,
     "metadata": {},
     "output_type": "execute_result"
    },
    {
     "data": {
      "image/png": "[encoded data removed]",
      "text/plain": [
       "<Figure size 1080x360 with 1 Axes>"
      ]
     },
     "metadata": {
      "needs_background": "light"
     },
     "output_type": "display_data"
    }
   ],
   "source": [
    "#Printing the top 5 ranking\n",
    "aux4 = aux.sort_values('mean_popularity', ascending=False).head(5)\n",
    "print(aux4[['genres', 'num_movies']])\n",
    "plt.figure(figsize=(15, 5))\n",
    "plt.title('Top 5 genres by mean of popularity', loc='center', pad=None)\n",
    "plt.xlabel('Genre')\n",
    "plt.ylabel('Popularity Mean')\n",
    "plt.bar([i for i in range(5)], aux4['mean_popularity'],tick_label=aux4['genres'],color='purple',alpha=0.5)"
   ]
  },
  {
   "cell_type": "markdown",
   "metadata": {},
   "source": [
    ">Adventure stands out again in the top 5 ranking of populary. We also see a bit more of Fantasy and Science Fiction in this ranking."
   ]
  },
  {
   "cell_type": "markdown",
   "metadata": {},
   "source": [
    "<a id='conclusions'></a>\n",
    "## Conclusions\n",
    "\n",
    "> **- Is the movie revenue higher when a certain actor/group of actors is part of the cast?** \n",
    "Not necessarily. Some artists like Emma Watson and Carrie Fischer have a high mean of movies revenue and have been in a lot of movies, so we can say that they influence to a higher movie revenue. But that does not apply to many of the other artists in the list. For example, there are artists that have been in only one movie and made the top ten sum of movies revenue, so we can't say that that level of revenue is because of the artist since we do not have any more history on them. Also, the revenue seems to have increased a lot with time, which I suspect is due to more access of the population to movies and development of movie making technology. \n",
    "\n",
    ">**- Does that also influence the movie's average score or the movie's popularity?**\n",
    "A few artists have higher movie's average vote, but they've been in a low quantity of movies, so we can't garantee that they are the reason for the movie's average score. When it comes to popularity, Chris Pratt can make the top then of recent movies having been in 10 movies, and Carrie Fiscer makes the top ten of older movies with a total of 13 movies, so we can say that these two are related to movie popularity. This is a score that can change a lot, though, because today a lot of new artists become popular and unpopular really fast.\n",
    "\n",
    "\n",
    ">**- Is the movie revenue higher when a certain person is directing the movie?** Yes: George Lucas and James Cameron seen to have a history of higher movie revenues.\n",
    "\n",
    "\n",
    ">**- Does the director also influence the movie's average score  or the movie's popularity?** Yes: Christopher Nolan usually has higher movie's average vote if we consider the number of movies they've made, and Christopher Nolan also stands out in the ranking of popularity.\n",
    "\n",
    "> **- Which genres usually present higher revenues/scores/popularity?** Action and Adventure present higher revenue, Documentary present higher vote average and Adveture along with Science Fiction and Fantasy are the winners of popularity."
   ]
  },
  {
   "cell_type": "markdown",
   "metadata": {},
   "source": [
    "# Limitations\n",
    "\n",
    "> Although we could identify a few actors and directors that influence the movie's revenue/average vote/popularity, there is no garantee that there were no other factors that influences on these movies scores. For exemple, when analysing the influence of cast in the revenue, I noted that more recent movies usually have a higher revenue, and I suspect it is because of increase in access to movies and development of movie making technology. On the other hand, the dataset provides no data about those variables that could help me test that hypothesis. \n",
    "\n",
    ">Also, the data analysed is composed by a lot of variables that are in categories, and not in continuous numerical format, so it was difficult to aplly operations such as correlation calculations.\n",
    "\n",
    ">Other limitations:\n",
    ">- Number of zero values in the revenue data is very high;\n",
    ">- I have an hypothesis that popularity index should go from 0 to 1, and the values in the dataset that are higher than 1 must have been messed up by some problem related to number format. Since I have no information if the index should really go from 0 to 1, this problem is a limitation to our analysis, because if that is true, all artists, directors and genres which popularities scores made it up to the top ten/five ranking are actually dammaged data.\n",
    ">- Most actors/actresses and directors have been in/made a very small quantity of movies, which can influence in their mean revenue, mean vote average and mean popularity and therefore impact in the analysis."
   ]
  }
 ],
 "metadata": {
  "celltoolbar": "Raw Cell Format",
  "kernelspec": {
   "display_name": "Python 3",
   "language": "python",
   "name": "python3"
  },
  "language_info": {
   "codemirror_mode": {
    "name": "ipython",
    "version": 3
   },
   "file_extension": ".py",
   "mimetype": "text/x-python",
   "name": "python",
   "nbconvert_exporter": "python",
   "pygments_lexer": "ipython3",
   "version": "3.8.8"
  }
 },
 "nbformat": 4,
 "nbformat_minor": 2
}
